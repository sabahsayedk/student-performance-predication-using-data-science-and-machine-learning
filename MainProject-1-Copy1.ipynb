{
 "cells": [
  {
   "cell_type": "markdown",
   "id": "f2bdfb9a",
   "metadata": {},
   "source": [
    "\n",
    "    \n",
    "<h3>Project Guide:</h3>\n",
    "\n",
    "<a href='' style=\"text-decoration: none\">Fathima Anwar</a>\n",
    "    \n",
    "<h3>Working team:</h3>\n",
    "    \n",
    "<a href='https://www.linkedin.com/in/sabah-sayed-k/' style=\"text-decoration: none\">Sabah Sayed k</a>\n",
    "    \n",
    "<a href='' style=\"text-decoration: none\">Shahul</a>\n",
    "    \n",
    "<a href='' style=\"text-decoration: none\">Shahbas</a>\n",
    "\n",
    "<a href='' style=\"text-decoration: none\">Razeen Abdul Gafoor</a>\n",
    "\n",
    "    \n",
    "    \n",
    "    \n",
    "    \n",
    "    \n",
    "    "
   ]
  },
  {
   "cell_type": "markdown",
   "id": "5b991537",
   "metadata": {},
   "source": [
    "<h1><span style='color:#b846a3;font-family:Comic Sans MS'>Main Goal:</span></h1>\n",
    "\n",
    "In this notebook, we will  :\n",
    "\n",
    "- **Predict whether or not a student will pass the exam based on certain information given**\n",
    "- **Compare the four learning algorithms**\n",
    "- **Find the best algorithm with high accuracy**\n",
    "\n",
    "We will be using three learning algorithms:\n",
    "\n",
    "- **Logistic regression**\n",
    "- **Supported vector machine**\n",
    "- **Decision Tree**\n",
    "- **Random forest**\n"
   ]
  },
  {
   "cell_type": "markdown",
   "id": "c4efc783",
   "metadata": {},
   "source": [
    "\n",
    "\n",
    "       \n"
   ]
  },
  {
   "cell_type": "markdown",
   "id": "3a641825",
   "metadata": {},
   "source": [
    "<h1><span style='color:#b846a3;font-family:Comic Sans MS'>About Dataset:</span></h1>\n",
    "\n",
    "Source of Dataset : **MEA ENGINEERNG COLLEGE,PERINTHALANNA** \n",
    "\n",
    "**Now let's explain every column in the dataframe**\n",
    "- `Gender` : student's sex (binary: \"0\" - female or \"1\" - male)\n",
    "- `age` : student's age (numeric: from 18 to 22)\n",
    "- `sslc` : percentage(numeric: 0 -9)fig given below\n",
    "- `plustwo` : percentage(numeric: 0 -9)fig given below\n",
    "- `realtionship` :(binary: \"0\" - commited or \"1\" - single)\n",
    "- `Annual income` :binary : 1- \"above one lakh\", 0 - \"below one lakh\"\n",
    "- `Frequent sickness` :(binary: yes \"1\" or no \"0\")\n",
    "- `Assignment submission` : Assigment submisson status numeric:1\"after the deadline\",2\"deadline\",3\"before the deadline\")\n",
    "- `self learner` : (binary: yes \"1\" or no \"0\")\n",
    "- `studyhour` : study time (numeric: 0 - <15 minute,1 - <= 30minute, 2 - <=1hour, 3 - <= 1.5hour,4 - <=2hour,5 - <=2.5hour,6 - >=3hour)\n",
    "- `pcm` : percentage(numeric: 0 -9)fig given below\n",
    "- `sleephour` : sleeping hour(numeric: 0 - 0 to 2hour , 1 - <=3hour, 2 - <=4hour,  3 - <=5hour,4 - <=6hour,5 - <= 7hour , 8- >7hour,)\n",
    "- `interstinbtechstudies` :(binary: yes \"1\" or no \"0\")\n",
    "- `instareelsspends` :reels spending time (numeric: 0 - <30 min., 1 - 30 to 1 hour., 2 - 1hour. to 1.30 hour,  3 -1.30 to 2 hour,4-2 hour to 3 hour,5 -3hour>)\n",
    "- `activities` : extra-curricular activities (binary: yes or no)\n",
    "- `exam fear` : (binary: yes \"1\" or no \"0\")\n",
    "- `Studypreparation` : numeric(1 -\"day\" ,2- \"week\",3 - \"month\")\n",
    "- `Programming`: programming interest (binary: yes \"1\" or no \"0\")\n",
    "\n",
    "\n",
    "**The last column:**\n",
    "- `Pass` : did the student pass the first year exam without supplie or not (binary: yes or no)"
   ]
  },
  {
   "cell_type": "markdown",
   "id": "9858b3bd",
   "metadata": {},
   "source": [
    "<img src='images\\x&xi.png' width=\"600\" height=\"600\">"
   ]
  },
  {
   "cell_type": "markdown",
   "id": "d4881b0e",
   "metadata": {},
   "source": [
    "# Explore Dataset"
   ]
  },
  {
   "cell_type": "code",
   "execution_count": null,
   "id": "153980d1",
   "metadata": {},
   "outputs": [],
   "source": [
    "import numpy as np\n",
    "import pandas as pd\n",
    "import matplotlib.pyplot as plt\n",
    "%matplotlib inline\n",
    "import seaborn as sns\n",
    "from sklearn import metrics\n",
    "import joblib"
   ]
  },
  {
   "cell_type": "code",
   "execution_count": null,
   "id": "95c531f7",
   "metadata": {},
   "outputs": [],
   "source": [
    "df = pd.read_csv('newdatset.csv')\n",
    "df.head()"
   ]
  },
  {
   "cell_type": "code",
   "execution_count": null,
   "id": "b03ac44d",
   "metadata": {},
   "outputs": [],
   "source": [
    "cor = df.corr()\n",
    "plt.figure(figsize = (27,26))\n",
    "\n",
    "sns.heatmap(cor, \n",
    "            annot = True,\n",
    "            cmap = 'flare')\n",
    "plt.show()"
   ]
  },
  {
   "cell_type": "code",
   "execution_count": null,
   "id": "77b6b3f6",
   "metadata": {},
   "outputs": [],
   "source": [
    "plt.figure(figsize=(8, 12))\n",
    "heatmap = sns.heatmap(df.corr()[['Pass']].sort_values(by='Pass', ascending=False), vmin=-1, vmax=1, annot=True, cmap='BrBG')\n",
    "heatmap.set_title('Features Correlating with the status of student', fontdict={'fontsize':18}, pad=16);"
   ]
  },
  {
   "cell_type": "code",
   "execution_count": null,
   "id": "89d5817b",
   "metadata": {},
   "outputs": [],
   "source": [
    "sns.countplot(x = 'Gender',data = df, hue = 'pass or fail')"
   ]
  },
  {
   "cell_type": "code",
   "execution_count": null,
   "id": "9d371588",
   "metadata": {},
   "outputs": [],
   "source": [
    "#plt.figure(figsize=(20, 12))\n",
    "#plt.subplot(2,3,1)\n",
    "#sns.boxplot(x = 'Gender', y = 'pass or fail', data = df)\n",
    "#plt.show()\n",
    "df.columns\n"
   ]
  },
  {
   "cell_type": "code",
   "execution_count": null,
   "id": "b4ea122c",
   "metadata": {},
   "outputs": [],
   "source": [
    "plt.figure(figsize=(20, 12))\n",
    "plt.subplot(2,3,1)\n",
    "sns.boxplot(x = 'sslc', y = 'Pass', data = df)\n",
    "plt.subplot(2,3,2)\n",
    "sns.boxplot(x ='plustwo', y = 'Pass', data = df)\n",
    "plt.subplot(2,3,3)\n",
    "sns.boxplot(x = 'sleep hour', y = 'Pass', data = df)\n",
    "plt.subplot(2,3,4)\n",
    "sns.boxplot(x = 'Extracurricularactivity', y = 'Pass', data = df)\n",
    "plt.subplot(2,3,5)\n",
    "sns.boxplot(x = 'programming', y = 'Pass', data = df)\n",
    "plt.show()"
   ]
  },
  {
   "cell_type": "code",
   "execution_count": null,
   "id": "43697088",
   "metadata": {},
   "outputs": [],
   "source": [
    "#sns.lineplot(x = 'Annual', y = 'Score', data = df)"
   ]
  },
  {
   "cell_type": "code",
   "execution_count": null,
   "id": "644a39a3",
   "metadata": {},
   "outputs": [],
   "source": [
    "plt.figure(figsize=(20, 12))\n",
    "plt.subplot(2,3,1)\n",
    "sns.boxplot(x = 'sslc', y = 'Pass', data = df)\n",
    "plt.show()"
   ]
  },
  {
   "cell_type": "code",
   "execution_count": null,
   "id": "3fb38614",
   "metadata": {},
   "outputs": [],
   "source": []
  },
  {
   "cell_type": "code",
   "execution_count": null,
   "id": "53f9525b",
   "metadata": {},
   "outputs": [],
   "source": []
  },
  {
   "cell_type": "code",
   "execution_count": null,
   "id": "d683e0b9",
   "metadata": {},
   "outputs": [],
   "source": []
  },
  {
   "cell_type": "markdown",
   "id": "f6b88bc8",
   "metadata": {},
   "source": [
    "<h1><span style='color:#b846a3;font-family:Comic Sans MS'>1.Logistic Regression</span></h1>"
   ]
  },
  {
   "cell_type": "code",
   "execution_count": null,
   "id": "9278d304",
   "metadata": {},
   "outputs": [],
   "source": [
    "df.head()\n",
    "df.columns"
   ]
  },
  {
   "cell_type": "code",
   "execution_count": null,
   "id": "3ee3bd44",
   "metadata": {},
   "outputs": [],
   "source": [
    "sample=df.drop(['pass or fail'],axis='columns')\n",
    "sample.head()"
   ]
  },
  {
   "cell_type": "code",
   "execution_count": null,
   "id": "c999fe63",
   "metadata": {},
   "outputs": [],
   "source": [
    "target=sample['Pass']\n",
    "target"
   ]
  },
  {
   "cell_type": "code",
   "execution_count": null,
   "id": "bd3895d7",
   "metadata": {},
   "outputs": [],
   "source": [
    "X=sample.drop(['Pass'],axis='columns')\n",
    "y=target"
   ]
  },
  {
   "cell_type": "code",
   "execution_count": null,
   "id": "8fe9885a",
   "metadata": {},
   "outputs": [],
   "source": [
    "from sklearn.linear_model import LogisticRegression\n",
    "model1=LogisticRegression(C=1)"
   ]
  },
  {
   "cell_type": "code",
   "execution_count": null,
   "id": "b5ce167e",
   "metadata": {},
   "outputs": [],
   "source": [
    "from sklearn.model_selection import train_test_split\n",
    "X_train, X_test, y_train, y_test = train_test_split(X,y,test_size=0.4,random_state=0)"
   ]
  },
  {
   "cell_type": "code",
   "execution_count": null,
   "id": "387efcaf",
   "metadata": {},
   "outputs": [],
   "source": [
    "model1.fit(X_train,y_train)"
   ]
  },
  {
   "cell_type": "code",
   "execution_count": null,
   "id": "2d36b7b9",
   "metadata": {},
   "outputs": [],
   "source": [
    "model1.score(X_test,y_test)\n"
   ]
  },
  {
   "cell_type": "markdown",
   "id": "6c404c60",
   "metadata": {},
   "source": [
    "**here we get 81% accuracy in Logestic Regression**"
   ]
  },
  {
   "cell_type": "code",
   "execution_count": null,
   "id": "13b31653",
   "metadata": {},
   "outputs": [],
   "source": [
    "\n"
   ]
  },
  {
   "cell_type": "code",
   "execution_count": null,
   "id": "41b19f7d",
   "metadata": {},
   "outputs": [],
   "source": [
    "logitestictestscore=model1.score(X_test,y_test)\n"
   ]
  },
  {
   "cell_type": "code",
   "execution_count": null,
   "id": "2b60384f",
   "metadata": {},
   "outputs": [],
   "source": [
    "logitestictestscore"
   ]
  },
  {
   "cell_type": "markdown",
   "id": "75031ab4",
   "metadata": {},
   "source": [
    "# Kfold Cross validation\n"
   ]
  },
  {
   "cell_type": "code",
   "execution_count": null,
   "id": "8dc47210",
   "metadata": {},
   "outputs": [],
   "source": [
    "#from sklearn.model_selection import cross_val_score\n",
    "#l_scores = cross_val_score(LogisticRegression(),sample,target )\n",
    "#np.average(l_scores)\n",
    "from sklearn.model_selection import ShuffleSplit\n",
    "from sklearn.model_selection import cross_val_score\n",
    "\n",
    "cv = ShuffleSplit(n_splits=5, test_size=0.4)\n",
    "\n",
    "l_scores=cross_val_score(LogisticRegression(), X, y, cv=cv)\n",
    "np.average(l_scores)"
   ]
  },
  {
   "cell_type": "code",
   "execution_count": null,
   "id": "5354087e",
   "metadata": {},
   "outputs": [],
   "source": [
    "logistic_y_predicted = model1.predict(X_test)"
   ]
  },
  {
   "cell_type": "code",
   "execution_count": null,
   "id": "39946bac",
   "metadata": {},
   "outputs": [],
   "source": [
    "from sklearn.metrics import confusion_matrix\n",
    "cm = confusion_matrix(y_test, logistic_y_predicted)\n",
    "cm"
   ]
  },
  {
   "cell_type": "code",
   "execution_count": null,
   "id": "b44c3c7b",
   "metadata": {},
   "outputs": [],
   "source": [
    "import matplotlib.pyplot as plt\n",
    "import seaborn as sn\n",
    "plt.figure(figsize = (10,7))\n",
    "sn.heatmap(cm, annot=True)\n"
   ]
  },
  {
   "cell_type": "code",
   "execution_count": null,
   "id": "80d26a6b",
   "metadata": {},
   "outputs": [],
   "source": [
    "confusion_matrix(y_test,logistic_y_predicted,labels=(1,0))\n"
   ]
  },
  {
   "cell_type": "code",
   "execution_count": null,
   "id": "60b4170e",
   "metadata": {},
   "outputs": [],
   "source": [
    "\n",
    "confusion_matrix(y_test,logistic_y_predicted,labels=(1,0)).ravel()"
   ]
  },
  {
   "cell_type": "code",
   "execution_count": null,
   "id": "2b92d4e7",
   "metadata": {},
   "outputs": [],
   "source": [
    "tp, fn, fp, tn = confusion_matrix(y_test, logistic_y_predicted, labels=(1,0)).ravel()"
   ]
  },
  {
   "cell_type": "code",
   "execution_count": null,
   "id": "1fd86a84",
   "metadata": {},
   "outputs": [],
   "source": [
    "precision = tp/(tp+fp)\n",
    "precision"
   ]
  },
  {
   "cell_type": "code",
   "execution_count": null,
   "id": "16620eda",
   "metadata": {},
   "outputs": [],
   "source": [
    "from sklearn.metrics import accuracy_score, precision_score, recall_score, f1_score"
   ]
  },
  {
   "cell_type": "code",
   "execution_count": null,
   "id": "041f4e7a",
   "metadata": {},
   "outputs": [],
   "source": [
    "precision_score(y_test, logistic_y_predicted)\n"
   ]
  },
  {
   "cell_type": "code",
   "execution_count": null,
   "id": "362ff190",
   "metadata": {},
   "outputs": [],
   "source": [
    "recall_score(y_test, logistic_y_predicted)"
   ]
  },
  {
   "cell_type": "code",
   "execution_count": null,
   "id": "a58b22a7",
   "metadata": {},
   "outputs": [],
   "source": [
    "f1_score(y_test,logistic_y_predicted)"
   ]
  },
  {
   "cell_type": "code",
   "execution_count": null,
   "id": "c83f7ad6",
   "metadata": {},
   "outputs": [],
   "source": [
    "accuracy_score(y_test,logistic_y_predicted)"
   ]
  },
  {
   "cell_type": "markdown",
   "id": "4b72ff35",
   "metadata": {},
   "source": [
    "<h1><span style='color:#b846a3;font-family:Comic Sans MS'>2.Decision Tree:</span></h1>"
   ]
  },
  {
   "cell_type": "code",
   "execution_count": null,
   "id": "43094fd0",
   "metadata": {},
   "outputs": [],
   "source": [
    "from sklearn import tree\n",
    "\n",
    "\n"
   ]
  },
  {
   "cell_type": "code",
   "execution_count": null,
   "id": "854ca357",
   "metadata": {},
   "outputs": [],
   "source": [
    "model2 = tree.DecisionTreeClassifier(criterion='entropy')"
   ]
  },
  {
   "cell_type": "code",
   "execution_count": null,
   "id": "935c30a6",
   "metadata": {},
   "outputs": [],
   "source": [
    "X_Dec=sample.drop(['Pass'],axis='columns')\n",
    "y_Dec=target"
   ]
  },
  {
   "cell_type": "code",
   "execution_count": null,
   "id": "45d46008",
   "metadata": {},
   "outputs": [],
   "source": [
    "from sklearn.model_selection import train_test_split\n",
    "X_Dec_train, X_Dec_test, y_Dec_train, y_Dec_test = train_test_split(X_Dec,y_Dec,test_size=0.4)\n",
    "model2.fit(X_Dec_train,y_Dec_train)"
   ]
  },
  {
   "cell_type": "code",
   "execution_count": null,
   "id": "e6a86758",
   "metadata": {},
   "outputs": [],
   "source": [
    "model2.score(X_Dec_test,y_Dec_test)"
   ]
  },
  {
   "cell_type": "code",
   "execution_count": null,
   "id": "5bc3cf60",
   "metadata": {},
   "outputs": [],
   "source": [
    "from sklearn.tree import DecisionTreeClassifier\n",
    "from sklearn.model_selection import cross_val_score\n",
    "d_scores = cross_val_score( DecisionTreeClassifier(),X,y )\n",
    "d_scores"
   ]
  },
  {
   "cell_type": "code",
   "execution_count": null,
   "id": "8b44ef39",
   "metadata": {},
   "outputs": [],
   "source": [
    "from sklearn.model_selection import ShuffleSplit\n",
    "from sklearn.model_selection import cross_val_score\n",
    "\n",
    "cv = ShuffleSplit(n_splits=5, test_size=0.2, random_state=0)\n",
    "\n",
    "d_score=cross_val_score(DecisionTreeClassifier(), X_Dec, y_Dec, cv=cv)\n",
    "np.average(d_score)"
   ]
  },
  {
   "cell_type": "code",
   "execution_count": null,
   "id": "be42636d",
   "metadata": {},
   "outputs": [],
   "source": [
    "dec_y_predicted = model2.predict(X_test)"
   ]
  },
  {
   "cell_type": "code",
   "execution_count": null,
   "id": "bf53b3ab",
   "metadata": {},
   "outputs": [],
   "source": [
    "from sklearn.metrics import confusion_matrix\n",
    "cm2= confusion_matrix(y_test, dec_y_predicted)\n",
    "cm2"
   ]
  },
  {
   "cell_type": "code",
   "execution_count": null,
   "id": "25a17403",
   "metadata": {},
   "outputs": [],
   "source": [
    "import matplotlib.pyplot as plt\n",
    "import seaborn as sn\n",
    "plt.figure(figsize = (10,7))\n",
    "sn.heatmap(cm2, annot=True)"
   ]
  },
  {
   "cell_type": "code",
   "execution_count": null,
   "id": "5e28bfd7",
   "metadata": {},
   "outputs": [],
   "source": [
    "confusion_matrix(y_test,dec_y_predicted,labels=(1,0)).ravel()"
   ]
  },
  {
   "cell_type": "code",
   "execution_count": null,
   "id": "8058d872",
   "metadata": {},
   "outputs": [],
   "source": [
    "tp, fn, fp, tn = confusion_matrix(y_test, dec_y_predicted, labels=(1,0)).ravel()"
   ]
  },
  {
   "cell_type": "code",
   "execution_count": null,
   "id": "c65baafd",
   "metadata": {},
   "outputs": [],
   "source": [
    "precision_score(y_test, dec_y_predicted)\n",
    "\n",
    "f1_score(y_test, dec_y_predicted)\n"
   ]
  },
  {
   "cell_type": "code",
   "execution_count": null,
   "id": "60a51427",
   "metadata": {},
   "outputs": [],
   "source": [
    "recall_score(y_test, dec_y_predicted)"
   ]
  },
  {
   "cell_type": "code",
   "execution_count": null,
   "id": "f5010098",
   "metadata": {},
   "outputs": [],
   "source": [
    "f1_score(y_test, dec_y_predicted)"
   ]
  },
  {
   "cell_type": "code",
   "execution_count": null,
   "id": "ffdc7942",
   "metadata": {},
   "outputs": [],
   "source": [
    "accuracy_score(y_test, dec_y_predicted)"
   ]
  },
  {
   "cell_type": "markdown",
   "id": "d5b1601f",
   "metadata": {},
   "source": []
  },
  {
   "cell_type": "markdown",
   "id": "1ae20c35",
   "metadata": {},
   "source": [
    "<h1><span style='color:#b846a3;font-family:Comic Sans MS'>3.Support Vector Machine:</span></h1>"
   ]
  },
  {
   "cell_type": "code",
   "execution_count": null,
   "id": "336ab754",
   "metadata": {},
   "outputs": [],
   "source": [
    "from sklearn.svm import SVC\n",
    "model3 = SVC()"
   ]
  },
  {
   "cell_type": "code",
   "execution_count": null,
   "id": "2490a720",
   "metadata": {},
   "outputs": [],
   "source": [
    "from sklearn.model_selection import train_test_split\n",
    "X_train, X_test, y_train, y_test = train_test_split(X,y,test_size=0.4,random_state=0)"
   ]
  },
  {
   "cell_type": "code",
   "execution_count": null,
   "id": "01c495bb",
   "metadata": {},
   "outputs": [],
   "source": [
    "model3.fit(X_train,y_train)"
   ]
  },
  {
   "cell_type": "code",
   "execution_count": null,
   "id": "e84b561c",
   "metadata": {},
   "outputs": [],
   "source": [
    "model3.score(X_test,y_test)"
   ]
  },
  {
   "cell_type": "markdown",
   "id": "b27ceb86",
   "metadata": {},
   "source": [
    "**Tune parameters**"
   ]
  },
  {
   "cell_type": "markdown",
   "id": "5c33207c",
   "metadata": {},
   "source": [
    "**1. Regularization (C)**"
   ]
  },
  {
   "cell_type": "markdown",
   "id": "b78ffd88",
   "metadata": {},
   "source": [
    "by High C value it may overfit"
   ]
  },
  {
   "cell_type": "code",
   "execution_count": null,
   "id": "4a281692",
   "metadata": {},
   "outputs": [],
   "source": [
    "model_3_1 = SVC(C=1)\n",
    "model_3_1.fit(X_train, y_train)\n",
    "model_3_1.score(X_test, y_test)"
   ]
  },
  {
   "cell_type": "markdown",
   "id": "6b18ce52",
   "metadata": {},
   "source": [
    "### "
   ]
  },
  {
   "cell_type": "markdown",
   "id": "4d08980e",
   "metadata": {},
   "source": [
    "**2. Gamma**\n"
   ]
  },
  {
   "cell_type": "code",
   "execution_count": null,
   "id": "c8f2c591",
   "metadata": {},
   "outputs": [],
   "source": [
    "model_g = SVC(gamma=2**-2)\n",
    "model_g.fit(X_train, y_train)\n",
    "model_g.score(X_test, y_test)"
   ]
  },
  {
   "cell_type": "markdown",
   "id": "146545a5",
   "metadata": {},
   "source": [
    "**3. Kernel**"
   ]
  },
  {
   "cell_type": "code",
   "execution_count": null,
   "id": "eea5de4f",
   "metadata": {},
   "outputs": [],
   "source": [
    "model_linear_kernal = SVC(kernel='linear',gamma=2**-2)\n",
    "model_linear_kernal.fit(X_train, y_train)"
   ]
  },
  {
   "cell_type": "code",
   "execution_count": null,
   "id": "e87aedc4",
   "metadata": {},
   "outputs": [],
   "source": [
    "model_linear_kernal.score(X_test, y_test)"
   ]
  },
  {
   "cell_type": "code",
   "execution_count": null,
   "id": "19bfbd05",
   "metadata": {},
   "outputs": [],
   "source": [
    "model_rbf_kernal = SVC(kernel='rbf',gamma=2**-2)\n",
    "model_rbf_kernal.fit(X_train, y_train)\n",
    "model_rbf_kernal.score(X_test, y_test)"
   ]
  },
  {
   "cell_type": "markdown",
   "id": "7aaf8e68",
   "metadata": {},
   "source": [
    "# Kfold Cross validation"
   ]
  },
  {
   "cell_type": "code",
   "execution_count": null,
   "id": "fe77f3fe",
   "metadata": {},
   "outputs": [],
   "source": [
    "from sklearn.model_selection import ShuffleSplit\n",
    "\n",
    "\n",
    "cv = ShuffleSplit(n_splits=5, test_size=0.4, random_state=0)\n",
    "\n",
    "s_score=cross_val_score(SVC(), X, y, cv=cv)\n",
    "np.average(s_score)"
   ]
  },
  {
   "cell_type": "code",
   "execution_count": null,
   "id": "646f28ae",
   "metadata": {},
   "outputs": [],
   "source": [
    "svc_y_predicted = model3.predict(X_test)"
   ]
  },
  {
   "cell_type": "code",
   "execution_count": null,
   "id": "97b61a99",
   "metadata": {},
   "outputs": [],
   "source": [
    "from sklearn.metrics import confusion_matrix\n",
    "cm3 = confusion_matrix(y_test, svc_y_predicted)\n",
    "cm3"
   ]
  },
  {
   "cell_type": "code",
   "execution_count": null,
   "id": "a3185f65",
   "metadata": {},
   "outputs": [],
   "source": [
    "import matplotlib.pyplot as plt\n",
    "import seaborn as sn\n",
    "plt.figure(figsize = (10,7))\n",
    "sn.heatmap(cm3, annot=True)"
   ]
  },
  {
   "cell_type": "code",
   "execution_count": null,
   "id": "fd88f945",
   "metadata": {},
   "outputs": [],
   "source": [
    "confusion_matrix(y_test,svc_y_predicted,labels=(1,0)).ravel()"
   ]
  },
  {
   "cell_type": "code",
   "execution_count": null,
   "id": "68bd65da",
   "metadata": {},
   "outputs": [],
   "source": [
    "tp, fn, fp, tn = confusion_matrix(y_test, svc_y_predicted, labels=(1,0)).ravel()"
   ]
  },
  {
   "cell_type": "code",
   "execution_count": null,
   "id": "417aa8de",
   "metadata": {},
   "outputs": [],
   "source": [
    "from sklearn.metrics import accuracy_score, precision_score, recall_score, f1_score"
   ]
  },
  {
   "cell_type": "code",
   "execution_count": null,
   "id": "0b435638",
   "metadata": {},
   "outputs": [],
   "source": [
    "precision_score(y_test, svc_y_predicted)"
   ]
  },
  {
   "cell_type": "code",
   "execution_count": null,
   "id": "ff93abf4",
   "metadata": {},
   "outputs": [],
   "source": [
    "recall_score(y_test, svc_y_predicted)"
   ]
  },
  {
   "cell_type": "code",
   "execution_count": null,
   "id": "0b5c00d2",
   "metadata": {},
   "outputs": [],
   "source": [
    "f1_score(y_test, svc_y_predicted)"
   ]
  },
  {
   "cell_type": "markdown",
   "id": "645c964d",
   "metadata": {},
   "source": [
    "<h1><span style='color:#b846a3;font-family:Comic Sans MS'>4.Random Tree Forest:</span></h1>"
   ]
  },
  {
   "cell_type": "code",
   "execution_count": null,
   "id": "44165c7c",
   "metadata": {},
   "outputs": [],
   "source": [
    "from sklearn.ensemble import RandomForestClassifier\n",
    "model4 = RandomForestClassifier(n_estimators=12)\n",
    "model4.fit(X_train, y_train)"
   ]
  },
  {
   "cell_type": "code",
   "execution_count": null,
   "id": "9be062d1",
   "metadata": {},
   "outputs": [],
   "source": [
    "model4.score(X_test,y_test)"
   ]
  },
  {
   "cell_type": "code",
   "execution_count": null,
   "id": "875a2c89",
   "metadata": {},
   "outputs": [],
   "source": [
    "from sklearn.model_selection import ShuffleSplit\n",
    "\n",
    "\n",
    "cv = ShuffleSplit(n_splits=5, test_size=0.4, random_state=0)\n",
    "\n",
    "R_score=cross_val_score(RandomForestClassifier(), X, y, cv=cv)\n",
    "np.average(R_score)"
   ]
  },
  {
   "cell_type": "code",
   "execution_count": null,
   "id": "d4d7471c",
   "metadata": {},
   "outputs": [],
   "source": [
    "r_y_predicted=model4.predict(X_test)"
   ]
  },
  {
   "cell_type": "code",
   "execution_count": null,
   "id": "03dd73b0",
   "metadata": {},
   "outputs": [],
   "source": [
    "from sklearn.metrics import confusion_matrix\n",
    "cm4=confusion_matrix(y_test,r_y_predicted)\n",
    "cm4"
   ]
  },
  {
   "cell_type": "code",
   "execution_count": null,
   "id": "7df9e80c",
   "metadata": {},
   "outputs": [],
   "source": [
    "import matplotlib.pyplot as plt\n",
    "import seaborn as sn\n",
    "plt.figure(figsize = (10,7))\n",
    "sn.heatmap(cm4,annot=True)"
   ]
  },
  {
   "cell_type": "code",
   "execution_count": null,
   "id": "97437276",
   "metadata": {},
   "outputs": [],
   "source": [
    "precision_score(y_test,r_y_predicted)"
   ]
  },
  {
   "cell_type": "code",
   "execution_count": null,
   "id": "1b8de3e7",
   "metadata": {},
   "outputs": [],
   "source": [
    "recall_score(y_test, r_y_predicted)"
   ]
  },
  {
   "cell_type": "code",
   "execution_count": null,
   "id": "6e25536f",
   "metadata": {},
   "outputs": [],
   "source": [
    "f1_score(y_test, r_y_predicted)"
   ]
  },
  {
   "cell_type": "markdown",
   "id": "b876fba6",
   "metadata": {},
   "source": [
    "<h2 style='color:red'>-------------------------------------------</h2>"
   ]
  },
  {
   "cell_type": "markdown",
   "id": "f8ee21a3",
   "metadata": {},
   "source": [
    "<h2 style='color:indigo'>Test the Model</h2>"
   ]
  },
  {
   "cell_type": "code",
   "execution_count": null,
   "id": "7503693d",
   "metadata": {},
   "outputs": [],
   "source": [
    "X.columns"
   ]
  },
  {
   "cell_type": "code",
   "execution_count": null,
   "id": "38ca4b76",
   "metadata": {},
   "outputs": [],
   "source": [
    "result=model1.predict([[9,9,3,3,1,2,1,8,1,0,1,1,1,1,2,1]])"
   ]
  },
  {
   "cell_type": "code",
   "execution_count": null,
   "id": "f478e627",
   "metadata": {},
   "outputs": [],
   "source": [
    "if result[0] == 0:\n",
    "    print(\"You have the chance of getting backlog, so study well.\")\n",
    "else:\n",
    "    print(\"You don't have the chance for getting supply,but study well for your academic performance\")\n"
   ]
  },
  {
   "cell_type": "code",
   "execution_count": null,
   "id": "4366f11c",
   "metadata": {},
   "outputs": [],
   "source": [
    "import pickle\n",
    "with open('ne.sav','wb') as f:\n",
    "    pickle.dump(model1,f)"
   ]
  },
  {
   "cell_type": "code",
   "execution_count": null,
   "id": "1f13377e",
   "metadata": {},
   "outputs": [],
   "source": []
  },
  {
   "cell_type": "markdown",
   "id": "0b714844",
   "metadata": {},
   "source": [
    "<h1><span style='color:#b846a3;font-family:Comic Sans MS'>Our Contribution using Voting Classfier:</span></h1>"
   ]
  },
  {
   "cell_type": "code",
   "execution_count": null,
   "id": "a89319d1",
   "metadata": {},
   "outputs": [],
   "source": [
    "import pandas as pd\n",
    "import numpy as np\n",
    "\n",
    "df=pd.read_csv('newd.csv')"
   ]
  },
  {
   "cell_type": "code",
   "execution_count": null,
   "id": "72f32aec",
   "metadata": {},
   "outputs": [],
   "source": [
    "X=df.drop(['Pass'],axis='columns')\n",
    "X.columns"
   ]
  },
  {
   "cell_type": "code",
   "execution_count": null,
   "id": "95866a0d",
   "metadata": {},
   "outputs": [],
   "source": [
    "y=df['Pass']\n",
    "\n",
    "from sklearn.ensemble import VotingClassifier\n",
    "from sklearn.linear_model import LogisticRegression\n",
    "from sklearn.svm import SVC\n",
    "from sklearn.tree import DecisionTreeClassifier\n",
    "from sklearn.ensemble import RandomForestClassifier\n",
    "\n",
    "\n",
    "from sklearn.model_selection import train_test_split\n",
    "X_train, X_test, y_train, y_test = train_test_split(X,y,test_size=0.4)\n",
    "\n",
    "log_clf = LogisticRegression()\n",
    "svm_clf = SVC()\n",
    "dt_clf = DecisionTreeClassifier()\n",
    "rf_clf = RandomForestClassifier()\n",
    "\n",
    "voting_clf = VotingClassifier(estimators=[('lr', log_clf), ('svm', svm_clf), ('dt', dt_clf), ('rf', rf_clf)], voting='hard')\n",
    "\n",
    "\n",
    "voting_clf.fit(X_train, y_train)\n",
    "voting_clf.score(X_test,y_test)\n"
   ]
  },
  {
   "cell_type": "code",
   "execution_count": null,
   "id": "91492572",
   "metadata": {},
   "outputs": [],
   "source": [
    "\n",
    "\n",
    "predictions = voting_clf.predict(X_test)\n"
   ]
  },
  {
   "cell_type": "code",
   "execution_count": null,
   "id": "d8f848e3",
   "metadata": {},
   "outputs": [],
   "source": [
    "predictions"
   ]
  },
  {
   "cell_type": "code",
   "execution_count": null,
   "id": "d7751d84",
   "metadata": {},
   "outputs": [],
   "source": [
    "voting_clf.score(X_test,y_test)\n"
   ]
  },
  {
   "cell_type": "code",
   "execution_count": null,
   "id": "5ec0af0e",
   "metadata": {},
   "outputs": [],
   "source": [
    "import pickle\n",
    "with open('ca3.pkl','wb') as f:\n",
    "    pickle.dump(voting_clf,f)\n",
    "    "
   ]
  },
  {
   "cell_type": "code",
   "execution_count": null,
   "id": "4a8f367b",
   "metadata": {},
   "outputs": [],
   "source": [
    "from sklearn.model_selection import ShuffleSplit\n",
    "from sklearn.model_selection import cross_val_score\n",
    "\n",
    "cv = ShuffleSplit(n_splits=5, test_size=0.4, random_state=0)\n",
    "\n",
    "l_scores=cross_val_score(voting_clf(), X, y, cv=cv)\n",
    "np.average(l_scores)"
   ]
  },
  {
   "cell_type": "code",
   "execution_count": null,
   "id": "6348c339",
   "metadata": {},
   "outputs": [],
   "source": [
    "from sklearn.model_selection import ShuffleSplit\n",
    "from sklearn.model_selection import cross_val_score\n",
    "import numpy as np\n",
    "\n",
    "# create the ShuffleSplit object\n",
    "cv = ShuffleSplit(n_splits=5, test_size=0.4)\n",
    "\n",
    "# compute the cross-validation scores\n",
    "scores = cross_val_score(voting_clf, X, y, cv=cv)\n",
    "\n",
    "# calculate the mean accuracy\n",
    "mean_accuracy = np.average(scores)\n",
    "print(f'Mean accuracy: {mean_accuracy:.3f}')\n",
    "\n",
    "\n"
   ]
  },
  {
   "cell_type": "code",
   "execution_count": null,
   "id": "3f7ceb36",
   "metadata": {},
   "outputs": [],
   "source": [
    "voting_y_predicted = voting_clf.predict(X_test)"
   ]
  },
  {
   "cell_type": "code",
   "execution_count": null,
   "id": "cc1d5a27",
   "metadata": {},
   "outputs": [],
   "source": [
    "from sklearn.metrics import confusion_matrix\n",
    "cmv = confusion_matrix(y_test, voting_y_predicted)\n",
    "cmv"
   ]
  },
  {
   "cell_type": "code",
   "execution_count": null,
   "id": "8b5609d1",
   "metadata": {},
   "outputs": [],
   "source": [
    "from sklearn.metrics import accuracy_score, precision_score, recall_score, f1_score"
   ]
  },
  {
   "cell_type": "code",
   "execution_count": null,
   "id": "4e7d039e",
   "metadata": {},
   "outputs": [],
   "source": [
    "accuracy_score(y_test,voting_y_predicted)"
   ]
  },
  {
   "cell_type": "code",
   "execution_count": null,
   "id": "362ee711",
   "metadata": {},
   "outputs": [],
   "source": [
    "f1_score(y_test,voting_y_predicted)"
   ]
  },
  {
   "cell_type": "code",
   "execution_count": null,
   "id": "e2aadef3",
   "metadata": {},
   "outputs": [],
   "source": [
    "recall_score(y_test, voting_y_predicted)"
   ]
  },
  {
   "cell_type": "code",
   "execution_count": null,
   "id": "f4dc975d",
   "metadata": {},
   "outputs": [],
   "source": []
  },
  {
   "cell_type": "code",
   "execution_count": null,
   "id": "5e796b44",
   "metadata": {},
   "outputs": [],
   "source": []
  }
 ],
 "metadata": {
  "kernelspec": {
   "display_name": "Python 3 (ipykernel)",
   "language": "python",
   "name": "python3"
  },
  "language_info": {
   "codemirror_mode": {
    "name": "ipython",
    "version": 3
   },
   "file_extension": ".py",
   "mimetype": "text/x-python",
   "name": "python",
   "nbconvert_exporter": "python",
   "pygments_lexer": "ipython3",
   "version": "3.9.13"
  }
 },
 "nbformat": 4,
 "nbformat_minor": 5
}
